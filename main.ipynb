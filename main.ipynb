{
 "cells": [
  {
   "cell_type": "markdown",
   "metadata": {},
   "source": [
    "# Phys 111 Final Project\n",
    "## Lev Gruber, Charlie Schofield\n",
    "\n",
    "A simplified model to study a bio-inspired triple spring mechanism. \n",
    "\n",
    "This jupyter notebook is arranged into the following sections:\n",
    "1. Test solution ~ solving for a single variable over time.\n",
    "2. Surfaces of section / Poincare surfaces.\n",
    "3. Position 1 vs. Position 2. curves"
   ]
  },
  {
   "cell_type": "code",
   "execution_count": 2,
   "metadata": {},
   "outputs": [
    {
     "ename": "ModuleNotFoundError",
     "evalue": "No module named 'matplotlib'",
     "output_type": "error",
     "traceback": [
      "\u001b[1;31m---------------------------------------------------------------------------\u001b[0m",
      "\u001b[1;31mModuleNotFoundError\u001b[0m                       Traceback (most recent call last)",
      "Cell \u001b[1;32mIn[2], line 6\u001b[0m\n\u001b[0;32m      1\u001b[0m \u001b[38;5;124;03m'''\u001b[39;00m\n\u001b[0;32m      2\u001b[0m \n\u001b[0;32m      3\u001b[0m \u001b[38;5;124;03mImports and LaTex formatting\u001b[39;00m\n\u001b[0;32m      4\u001b[0m \n\u001b[0;32m      5\u001b[0m \u001b[38;5;124;03m'''\u001b[39;00m\n\u001b[1;32m----> 6\u001b[0m \u001b[38;5;28;01mimport\u001b[39;00m \u001b[38;5;21;01mmatplotlib\u001b[39;00m\u001b[38;5;21;01m.\u001b[39;00m\u001b[38;5;21;01mpyplot\u001b[39;00m \u001b[38;5;28;01mas\u001b[39;00m \u001b[38;5;21;01mplt\u001b[39;00m\n\u001b[0;32m      7\u001b[0m \u001b[38;5;28;01mimport\u001b[39;00m \u001b[38;5;21;01mnumpy\u001b[39;00m \u001b[38;5;28;01mas\u001b[39;00m \u001b[38;5;21;01mnp\u001b[39;00m\n\u001b[0;32m      8\u001b[0m \u001b[38;5;28;01mfrom\u001b[39;00m \u001b[38;5;21;01mscipy\u001b[39;00m\u001b[38;5;21;01m.\u001b[39;00m\u001b[38;5;21;01moptimize\u001b[39;00m \u001b[38;5;28;01mimport\u001b[39;00m fsolve\n",
      "\u001b[1;31mModuleNotFoundError\u001b[0m: No module named 'matplotlib'"
     ]
    }
   ],
   "source": [
    "'''\n",
    "\n",
    "Imports and LaTex formatting\n",
    "\n",
    "'''\n",
    "import matplotlib.pyplot as plt\n",
    "import numpy as np\n",
    "from scipy.optimize import fsolve\n",
    "from scipy.integrate import solve_ivp, odeint\n",
    "\n",
    "plt.rcParams['text.usetex'] = True"
   ]
  },
  {
   "cell_type": "code",
   "execution_count": null,
   "metadata": {},
   "outputs": [],
   "source": [
    "# Define global constants for the system\n",
    "m_1 = 0.5\n",
    "m_2 = 0.5\n",
    "e_1 = 0.5\n",
    "e_2 = 0.5\n",
    "e_3 = 0.5\n",
    "a = 0.5\n",
    "l = 0.5\n",
    "\n",
    "c_1 = (e_1 * a * l) / 3\n",
    "c_2 = (e_2 * a * l) / 3\n",
    "c_3 = (e_3 * a * l) / 3\n",
    " \n",
    "\n",
    "def deriv(q, t):\n",
    "    '''\n",
    "    Inputs: \n",
    "    - q (array): \n",
    "    - t (float): time\n",
    "    Outputs:\n",
    "    - [dq1_dt, dq2_dt, dq1_dot_dt, dq2_dot_dt]\n",
    "    '''\n",
    "    # pull out variables from input array\n",
    "    q_1, q_2, v_1, v_2 = q\n",
    "    \n",
    "    # define derivatives\n",
    "    q_1_dot = v_1\n",
    "    q_2_dot = v_2\n",
    "    \n",
    "    v_1_dot = (1)/(m_1 * l) * (c_1 * ( -(1+q_1) + 1/(1+q_1)**2) + c_2 * ( (1 + q_2 - q_1) - 1 / (1 - q_2 - q_1)**2 ))\n",
    "    v_2_dot = (1)/(m_2 * l) * (c_3 * ( -(1+q_2) + 1/(1+q_2)**2) - c_2 * ( (1 + q_2 - q_1) + 1 / (1 - q_2 - q_1)**2 ))\n",
    "    \n",
    "    return [q_1_dot, q_2_dot, v_1_dot, v_2_dot]"
   ]
  },
  {
   "cell_type": "markdown",
   "metadata": {},
   "source": [
    "### Section 1\n",
    "This section contains a sample solution to the Euler-Lagrange equations of motion for this model. First define a function per mass to take our derivatives."
   ]
  },
  {
   "cell_type": "code",
   "execution_count": null,
   "metadata": {},
   "outputs": [],
   "source": [
    "t = np.linspace(0, 10, 10000)\n",
    "y0 = [0, 0, 0, 0]\n",
    "#run through initial conditions\n",
    "\n",
    "q_1, q_2, v_1, v_2 = odeint(deriv, y0, t).T\n",
    "plt.plot(t, q_1)\n",
    "    "
   ]
  },
  {
   "cell_type": "code",
   "execution_count": null,
   "metadata": {},
   "outputs": [],
   "source": []
  },
  {
   "cell_type": "code",
   "execution_count": null,
   "metadata": {},
   "outputs": [],
   "source": [
    "'''\n",
    "\n",
    "Def\n",
    "\n",
    "'''"
   ]
  }
 ],
 "metadata": {
  "kernelspec": {
   "display_name": "Python 3",
   "language": "python",
   "name": "python3"
  },
  "language_info": {
   "codemirror_mode": {
    "name": "ipython",
    "version": 3
   },
   "file_extension": ".py",
   "mimetype": "text/x-python",
   "name": "python",
   "nbconvert_exporter": "python",
   "pygments_lexer": "ipython3",
   "version": "3.12.4"
  }
 },
 "nbformat": 4,
 "nbformat_minor": 2
}
