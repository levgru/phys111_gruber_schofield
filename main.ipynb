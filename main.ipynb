{
 "cells": [
  {
   "cell_type": "markdown",
   "metadata": {},
   "source": [
    "# Phys 111 Final Project\n",
    "## Lev Gruber, Charlie Schofield\n",
    "\n",
    "A simplified model to study a bio-inspired triple spring mechanism. \n",
    "\n",
    "This jupyter notebook is arranged into the following sections:\n",
    "1. **Euler-Lagrange DE and Variable Instantiation** ~ solving for both positions over time.\n",
    "2. **Classical Regime and Normal Modes**\n",
    "3. **Varying Mass**\n",
    "4. **Varying Spring Characteristics**\n",
    "4. **Surfaces of Section**\n"
   ]
  },
  {
   "cell_type": "markdown",
   "metadata": {},
   "source": [
    "## Section 1 - Solving Euler-Lagrange DE and Variable Instantiation"
   ]
  },
  {
   "cell_type": "code",
   "execution_count": null,
   "metadata": {},
   "outputs": [],
   "source": [
    "'''\n",
    "\n",
    "Imports and LaTex formatting\n",
    "\n",
    "'''\n",
    "import matplotlib.pyplot as plt\n",
    "import numpy as np\n",
    "from scipy.optimize import fsolve\n",
    "from scipy.integrate import solve_ivp, odeint\n",
    "\n",
    "plt.rcParams['text.usetex'] = True"
   ]
  },
  {
   "cell_type": "code",
   "execution_count": null,
   "metadata": {},
   "outputs": [],
   "source": [
    "# Define global constants for the system\n",
    "m_1 = 1\n",
    "m_2 = 2\n",
    "e_1 = 10\n",
    "e_2 = 10\n",
    "e_3 = 10\n",
    "a = 0.1\n",
    "l = 1\n",
    "\n",
    "c_1 = (e_1 * a * l) / 3\n",
    "c_2 = (e_2 * a * l) / 3\n",
    "c_3 = (e_3 * a * l) / 3\n",
    "\n",
    "def deriv(t, q):\n",
    "    '''\n",
    "    Inputs: \n",
    "    - q (array): \n",
    "    - t (float): time\n",
    "    Outputs:\n",
    "    - [dq1_dt, dq2_dt, dq1_dot_dt, dq2_dot_dt]\n",
    "    '''\n",
    "    # pull out variables from input array\n",
    "    q_1, q_2, v_1, v_2 = q\n",
    "    \n",
    "    # define derivatives\n",
    "    q_1_dot = v_1\n",
    "    q_2_dot = v_2\n",
    "    \n",
    "    # test w/ non-linear springs\n",
    "    k_1 = 5\n",
    "    k_2 = 5\n",
    "    k_3 = 5\n",
    "    e_1 = 1\n",
    "    e_2 = 1\n",
    "    e_3 = 1\n",
    "    \n",
    "    v_1_dot = 1/m_1 * (-k_1 * q_1 -  e_1 * q_1 ** 2 + k_2 * (q_2 - q_1) + e_2 * (q_2 - q_1)**2)\n",
    "    v_2_dot = 1/m_2 * (-k_3 * q_2 - e_3 * q_2**2 - k_2 * (q_2 - q_1) - e_2 * (q_2 - q_1) **2 )\n",
    "    \n",
    "    return [q_1_dot, q_2_dot, v_1_dot, v_2_dot]\n",
    "\n",
    "def hamilton_cons_2nd_order(result):\n",
    "    '''\n",
    "    \n",
    "    For non-linear spring system w/ only quadratic term\n",
    "    \n",
    "    '''\n",
    "    # parse results input\n",
    "    q_1 = result.y[0]\n",
    "    q_2 = result.y[1]\n",
    "    q_1_dot = result.y[2]\n",
    "    q_2_dot = result.y[3]\n",
    "    k_1 = 5\n",
    "    k_2 = 5\n",
    "    k_3 = 5\n",
    "    e_1 = 1\n",
    "    e_2 = 1\n",
    "    e_3 = 1\n",
    "    \n",
    "    # calculate kinetic and potential energies, combine for hamiltonian\n",
    "    kin_eng = 1/2 * m_1 * l**2 * q_1_dot **2 + 1/2 * m_2 * l**2 *q_2_dot ** 2\n",
    "    pot_eng = (k_1 * q_1 **2)/2 + (k_3 * q_2 ** 2)/2 + (k_2 * (q_2 - q_1)**2)/2 + (e_1 * q_1 ** 3)/3 + (e_2 * (q_2 - q_1)**3)/3 + (e_3 * q_2**3)/3\n",
    "    ham = kin_eng + pot_eng\n",
    "    return ham\n"
   ]
  },
  {
   "cell_type": "code",
   "execution_count": null,
   "metadata": {},
   "outputs": [],
   "source": [
    "'''\n",
    "Run this block to check Hamiltonian conservation (conservation of energy)\n",
    "'''\n",
    "# Instantiate initial conditions\n",
    "y0 = [0.65, 1.1, 0, 0]\n",
    "\n",
    "# Instantiate time span\n",
    "t_start = 0.1\n",
    "t_end = 100\n",
    "t = np.linspace(t_start, t_end, 10000)\n",
    "\n",
    "# solve euler-lagrange equations\n",
    "result = solve_ivp(deriv, [t_start, t_end], y0, t_eval=t, method='LSODA', rtol=1e-8, atol=1e-10)\n",
    "#ham_result = hamilton_cons(result)\n",
    "ham_result = hamilton_cons_2nd_order(result) \n",
    "\n",
    "# Check if the integration was successful\n",
    "plt.plot(result.t, ham_result, label=r'Hamiltonian $(T + U)$')"
   ]
  },
  {
   "cell_type": "code",
   "execution_count": null,
   "metadata": {},
   "outputs": [],
   "source": [
    "\n",
    "\n",
    "# Solve the system using solve_ivp\n",
    "result = solve_ivp(deriv, [t_start, t_end], y0, t_eval=t, method='LSODA', rtol=1e-6, atol=1e-8)\n",
    "\n",
    "# Check if the integration was successful\n",
    "plt.plot(result.t, result.y[0], label=r'q1 (Position of $m_1$)')\n",
    "plt.plot(result.t, result.y[1], label=r'q2 (Position of $m_2$)')\n",
    "plt.xlabel('Time')\n",
    "plt.ylabel('Position')\n",
    "plt.legend()\n",
    "plt.show()\n",
    "# for troubleshooting\n",
    "print(result.message)\n",
    "print('A single point has q_1', round(result.y[0][500],3), 'q_2', round(result.y[1][500],3), 'q_1_dot', round(result.y[2][500],3), 'q_2_dot', round(result.y[3][500],3))\n",
    "\n",
    "for i, q1_res in enumerate(result.y[0]):\n",
    "    q2_res = result.y[1][i]\n",
    "    if abs(q2_res - q1_res) > 1:\n",
    "        print(\"This system became non-physical at:\", result.t[i])\n",
    "    "
   ]
  },
  {
   "cell_type": "code",
   "execution_count": null,
   "metadata": {},
   "outputs": [],
   "source": [
    "plt.plot(result.y[0], m_1 * result.y[2], label=r'pos. vs. vel of $m_1$')\n",
    "plt.plot(result.y[1], m_2 * result.y[3], label=r'pos. vs. vel of $m_2$')\n",
    "plt.legend()\n",
    "plt.xlabel('Position')\n",
    "plt.ylabel('Velocity')\n"
   ]
  },
  {
   "cell_type": "markdown",
   "metadata": {},
   "source": [
    "## Section 2 - Classical Regime and Normal Modes"
   ]
  },
  {
   "cell_type": "code",
   "execution_count": null,
   "metadata": {},
   "outputs": [],
   "source": []
  },
  {
   "cell_type": "markdown",
   "metadata": {},
   "source": [
    "## Section 3 - Varying Mass"
   ]
  },
  {
   "cell_type": "code",
   "execution_count": null,
   "metadata": {},
   "outputs": [],
   "source": []
  },
  {
   "cell_type": "markdown",
   "metadata": {},
   "source": [
    "## Section 4 - Varying Spring Characteristics"
   ]
  },
  {
   "cell_type": "code",
   "execution_count": null,
   "metadata": {},
   "outputs": [],
   "source": []
  },
  {
   "cell_type": "markdown",
   "metadata": {},
   "source": [
    "## Section 5 - Surfaces of Section"
   ]
  },
  {
   "cell_type": "code",
   "execution_count": null,
   "metadata": {},
   "outputs": [],
   "source": []
  },
  {
   "cell_type": "markdown",
   "metadata": {},
   "source": [
    "## Old Code ~ Remnants of the Past"
   ]
  },
  {
   "cell_type": "code",
   "execution_count": null,
   "metadata": {},
   "outputs": [],
   "source": [
    "'''\n",
    "\n",
    "Neo-Hookean Spring Old Code\n",
    "\n",
    "\n",
    " # original stuff\n",
    "#v_1_dot = (1)/(m_1 * l**2) * (c_1 * ( -(1+q_1) + 1/(1+q_1)**2) + c_2 * ( (1 + q_2 - q_1) - 1 / (1 + q_2 - q_1)**2 ))\n",
    "# #v_2_dot = (1)/(m_2 * l**2) * (c_3 * ( -(1+q_2) + 1/(1+q_2)**2) - c_2 * ( (1 + q_2 - q_1) + 1 / (1 + q_2 - q_1)**2 ))\n",
    "    \n",
    "# test w/ linear springs\n",
    "#v_1_dot = -2*(c_1 / m_1) * q_1 + (c_2 / m_1) * q_2\n",
    "#v_2_dot = (c_1 / m_2) * q_1 - 2*(c_2 / m_2) * q_2\n",
    "\n",
    "\n",
    "#didn't work but it's her\n",
    "# edef hamilton_cons(result):\n",
    "    \n",
    "    # parse results input\n",
    "    q_1 = result.y[0]\n",
    "    q_2 = result.y[1]\n",
    "    q_1_dot = result.y[2]\n",
    "    q_2_dot = result.y[3]\n",
    "    \n",
    "    # calculate kinetic and potential energies, combine for hamiltonian\n",
    "    kin_eng = 1/2 * m_1 *  q_1_dot **2 + 1/2 * m_2 * l**2 *q_2_dot ** 2\n",
    "    pot_eng = c_1 * ( ((1 + q_1)**2)/2 + 1/(1 + q_1) - 3/2) + c_2 * ( ((1+q_2-q_1)**2)/2 + 1/(1 + q_2 - q_1) - 3/2) + c_3 * ( ((1 + q_2)**2)/2 + 1/(1 + q_2) - 3/2)\n",
    "    ham = kin_eng + pot_eng\n",
    "    return ham\n",
    "\n",
    "#linear springs do work\n",
    "def hamilton_cons_1st_order(result):\n",
    "    \n",
    "    For linear spring system\n",
    "\n",
    "    # parse results input\n",
    "    q_1 = result.y[0]\n",
    "    q_2 = result.y[1]\n",
    "    q_1_dot = result.y[2]\n",
    "    q_2_dot = result.y[3]\n",
    "    k = 5 #c_1\n",
    "    \n",
    "    # calculate kinetic and potential energies, combine for hamiltonian\n",
    "    kin_eng = 1/2 * m_1 * l**2 * q_1_dot **2 + 1/2 * m_2 * l**2 *q_2_dot ** 2\n",
    "    pot_eng = k * q_1 ** 2 + k * q_2**2 - k * q_1 * q_2\n",
    "    ham = kin_eng + pot_eng\n",
    "    return ham\n",
    "'''\n"
   ]
  }
 ],
 "metadata": {
  "kernelspec": {
   "display_name": ".venv",
   "language": "python",
   "name": "python3"
  },
  "language_info": {
   "codemirror_mode": {
    "name": "ipython",
    "version": 3
   },
   "file_extension": ".py",
   "mimetype": "text/x-python",
   "name": "python",
   "nbconvert_exporter": "python",
   "pygments_lexer": "ipython3",
   "version": "3.12.4"
  }
 },
 "nbformat": 4,
 "nbformat_minor": 2
}
